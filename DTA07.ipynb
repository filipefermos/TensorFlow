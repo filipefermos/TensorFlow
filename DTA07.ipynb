{
 "cells": [
  {
   "cell_type": "code",
   "execution_count": 2,
   "metadata": {},
   "outputs": [],
   "source": [
    "import tensorflow as tf\n",
    "import numpy as np"
   ]
  },
  {
   "cell_type": "code",
   "execution_count": 3,
   "metadata": {},
   "outputs": [],
   "source": [
    "dados_x = np.random.randn(4,8)   # cria matriz de 4 linhas e 8 colunas com números aleatórios\n",
    "dados_w = np.random.randn(8,2)   # cria matriz de 8 linhas e 2 colunas com números aleatórios"
   ]
  },
  {
   "cell_type": "code",
   "execution_count": 4,
   "metadata": {},
   "outputs": [],
   "source": [
    "b = tf.random_normal((4,2),0,1)   # cria matriz (tensor) de 4 linhas e 2 colunas com números aleatórios"
   ]
  },
  {
   "cell_type": "code",
   "execution_count": 5,
   "metadata": {},
   "outputs": [],
   "source": [
    "x = tf.placeholder(tf.float32, shape=(4, 8))\n",
    "w = tf.placeholder(tf.float32, shape=(8, 2))\n",
    "operacao = tf.matmul(x, w) + b"
   ]
  },
  {
   "cell_type": "code",
   "execution_count": 6,
   "metadata": {},
   "outputs": [],
   "source": [
    "maximo = tf.reduce_max(operacao) # encontra o maior valor da matriz operacao"
   ]
  },
  {
   "cell_type": "code",
   "execution_count": 7,
   "metadata": {},
   "outputs": [
    {
     "name": "stdout",
     "output_type": "stream",
     "text": [
      "2.4708304\n"
     ]
    }
   ],
   "source": [
    "with tf.Session() as sess:\n",
    "        saida1 = sess.run(operacao, feed_dict={x: dados_x, w: dados_w})\n",
    "        saida2 = sess.run(maximo, feed_dict={x: dados_x, w: dados_w}) \n",
    "\n",
    "print(saida2)"
   ]
  },
  {
   "cell_type": "code",
   "execution_count": 8,
   "metadata": {},
   "outputs": [
    {
     "name": "stdout",
     "output_type": "stream",
     "text": [
      "[1.6229131, 2.4387228, 3.8680127, 2.9870517, 5.21029]\n"
     ]
    }
   ],
   "source": [
    "import numpy as np\n",
    "\n",
    "x1 = np.random.randn(4,8)  \n",
    "w1 = np.random.randn(8,2)  \n",
    "\n",
    "x2 = np.random.randn(4,8)  \n",
    "w2 = np.random.randn(8,2)\n",
    "\n",
    "x3 = np.random.randn(10,3)  \n",
    "w3 = np.random.randn(3,1)\n",
    "\n",
    "x4 = np.random.randn(4,8)  \n",
    "w4 = np.random.randn(8,2)\n",
    "\n",
    "x5 = np.random.randn(4,8)  \n",
    "w5 = np.random.randn(8,2)\n",
    "\n",
    "lista_x = [x1, x2, x3, x4, x5]\n",
    "lista_w = [w1, w2, w3, w4, w5]\n",
    "lista_saida = []\n",
    "\n",
    "b = tf.random_normal((4,2),0,1)   # cria matriz (tensor) de 4 linhas e 2 colunas com números aleatórios\n",
    "\n",
    "x = tf.placeholder(tf.float32, shape=(None, None))\n",
    "w = tf.placeholder(tf.float32, shape=(None, None))\n",
    "operacao = tf.matmul(x, w)\n",
    "\n",
    "maximo = tf.reduce_max(operacao) # encontra o maior valor da matriz operacao\n",
    "\n",
    "with tf.Session() as sess:\n",
    "    for i in range(5):\n",
    "        saida = sess.run(maximo, feed_dict={x: lista_x[i], w: lista_w[i]})\n",
    "        lista_saida.append(saida)\n",
    "print(lista_saida)"
   ]
  },
  {
   "cell_type": "code",
   "execution_count": null,
   "metadata": {},
   "outputs": [],
   "source": []
  }
 ],
 "metadata": {
  "kernelspec": {
   "display_name": "Python 3",
   "language": "python",
   "name": "python3"
  },
  "language_info": {
   "codemirror_mode": {
    "name": "ipython",
    "version": 3
   },
   "file_extension": ".py",
   "mimetype": "text/x-python",
   "name": "python",
   "nbconvert_exporter": "python",
   "pygments_lexer": "ipython3",
   "version": "3.7.6"
  }
 },
 "nbformat": 4,
 "nbformat_minor": 4
}
